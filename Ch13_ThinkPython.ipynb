{
 "metadata": {
  "name": "Ch13_ThinkPython"
 },
 "nbformat": 3,
 "worksheets": [
  {
   "cells": [
    {
     "cell_type": "plaintext",
     "source": [
      "Exercise 13.1, 13.2, 13.3, 13.4, 13.9"
     ]
    },
    {
     "cell_type": "plaintext",
     "source": [
      "Exercise 13.1 Write a program that reads a file, breaks each line into words, strips whitespace and",
      "punctuation from the words, and converts them to lowercase."
     ]
    },
    {
     "cell_type": "code",
     "collapsed": false,
     "input": [
      "import string",
      "file1 = open(\"sample.txt\")",
      "for line in file1:",
      "    for character in line:",
      "            if character not in string.punctuation:",
      "                if character not in string.whitespace:",
      "                    for i in range(26):",
      "                        if character == string.ascii_uppercase[i]:",
      "                            character = string.ascii_lowercase[i]",
      "                    print character"
     ],
     "language": "python",
     "outputs": [
      {
       "output_type": "stream",
       "stream": "stdout",
       "text": [
        "h",
        "e",
        "r",
        "e",
        "i",
        "s",
        "s",
        "o",
        "m",
        "e",
        "s",
        "a",
        "m",
        "p",
        "l",
        "e",
        "t",
        "e",
        "x",
        "t",
        "s",
        "a",
        "m",
        "p",
        "l",
        "e",
        "t",
        "e",
        "x",
        "t",
        "i",
        "s",
        "f",
        "u",
        "n",
        "a",
        "n",
        "d",
        "s",
        "o",
        "i",
        "s",
        "p",
        "y",
        "t",
        "h",
        "o",
        "n"
       ]
      }
     ],
     "prompt_number": 27
    },
    {
     "cell_type": "code",
     "collapsed": false,
     "input": [
      "print string.punctuation[3]"
     ],
     "language": "python",
     "outputs": [
      {
       "output_type": "stream",
       "stream": "stdout",
       "text": [
        "$"
       ]
      }
     ],
     "prompt_number": 26
    },
    {
     "cell_type": "code",
     "collapsed": true,
     "input": [],
     "language": "python",
     "outputs": []
    }
   ]
  }
 ]
}